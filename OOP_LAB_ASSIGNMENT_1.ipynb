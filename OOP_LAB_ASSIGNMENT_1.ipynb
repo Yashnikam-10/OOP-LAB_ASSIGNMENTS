{
  "nbformat": 4,
  "nbformat_minor": 0,
  "metadata": {
    "colab": {
      "name": "OOP-LAB_ASSIGNMENT-1.ipynb",
      "provenance": [],
      "authorship_tag": "ABX9TyP3heyIDtgLQ8JVpshFqfw5",
      "include_colab_link": true
    },
    "kernelspec": {
      "name": "python3",
      "display_name": "Python 3"
    },
    "language_info": {
      "name": "python"
    }
  },
  "cells": [
    {
      "cell_type": "markdown",
      "metadata": {
        "id": "view-in-github",
        "colab_type": "text"
      },
      "source": [
        "<a href=\"https://colab.research.google.com/github/Yashnikam-10/OOP-LAB_ASSIGNMENTS/blob/main/OOP_LAB_ASSIGNMENT_1.ipynb\" target=\"_parent\"><img src=\"https://colab.research.google.com/assets/colab-badge.svg\" alt=\"Open In Colab\"/></a>"
      ]
    },
    {
      "cell_type": "code",
      "metadata": {
        "colab": {
          "base_uri": "https://localhost:8080/"
        },
        "id": "MG8krYeTf5aW",
        "outputId": "ae4061bd-4a72-4788-d2c7-8adcb507832f"
      },
      "source": [
        "#Problem-1\n",
        "def leap_year(year):\n",
        "  if year%4 == 0 and year%400 == 0:\n",
        "    return True\n",
        "  elif year%4 == 0 and not year%100 == 0:\n",
        "    return True\n",
        "  else:\n",
        "    return False\n",
        "\n",
        "year = int(input('Enter the year: '))\n",
        "if leap_year(year):\n",
        "  print(f'{year} is a leap year.')\n",
        "else:\n",
        "  print(f'{year} is not a leap year.')\n",
        "\n",
        "year = int(input('Enter the year: '))\n",
        "if leap_year(year):\n",
        "  print(f'{year} is a leap year.')\n",
        "else:\n",
        "  print(f'{year} is not a leap year.')\n",
        "\n",
        "year = int(input('Enter the year: '))\n",
        "if leap_year(year):\n",
        "  print(f'{year} is a leap year.')\n",
        "else:\n",
        "  print(f'{year} is not a leap year.')\n",
        "\n",
        "year = int(input('Enter the year: '))\n",
        "if leap_year(year):\n",
        "  print(f'{year} is a leap year.')\n",
        "else:\n",
        "  print(f'{year} is not a leap year.')"
      ],
      "execution_count": null,
      "outputs": [
        {
          "output_type": "stream",
          "name": "stdout",
          "text": [
            "Enter the year: 1900\n",
            "1900 is not a leap year.\n",
            "Enter the year: 2000\n",
            "2000 is a leap year.\n",
            "Enter the year: 2003\n",
            "2003 is not a leap year.\n",
            "Enter the year: 2012\n",
            "2012 is a leap year.\n"
          ]
        }
      ]
    },
    {
      "cell_type": "code",
      "metadata": {
        "colab": {
          "base_uri": "https://localhost:8080/"
        },
        "id": "DbZbjY3ef51a",
        "outputId": "d7a2fe1a-74f3-49d3-d28f-c59c6dd16e42"
      },
      "source": [
        "#Problem-2\n",
        "def weird_or_not(number):\n",
        "  if not number%2==0 or number%2 == 0 and number in range(6,21):\n",
        "    print('Weird')\n",
        "  else:\n",
        "    print('Not Weird')\n",
        "\n",
        "number = int(input('Enter a number: '))\n",
        "weird_or_not(number)\n",
        "\n",
        "number = int(input('Enter a number: '))\n",
        "weird_or_not(number)\n",
        "\n",
        "number = int(input('Enter a number: '))\n",
        "weird_or_not(number)\n",
        "\n",
        "number = int(input('Enter a number: '))\n",
        "weird_or_not(number)\n",
        "\n",
        "number = int(input('Enter a number: '))\n",
        "weird_or_not(number)"
      ],
      "execution_count": null,
      "outputs": [
        {
          "output_type": "stream",
          "name": "stdout",
          "text": [
            "Enter a number: 23\n",
            "Weird\n",
            "Enter a number: 2\n",
            "Not Weird\n",
            "Enter a number: 14\n",
            "Weird\n",
            "Enter a number: 22\n",
            "Not Weird\n",
            "Enter a number: 20\n",
            "Weird\n"
          ]
        }
      ]
    },
    {
      "cell_type": "code",
      "metadata": {
        "colab": {
          "base_uri": "https://localhost:8080/"
        },
        "id": "r_oeQqitipPy",
        "outputId": "2098e8fe-7038-43ca-aff9-e761bbd30d33"
      },
      "source": [
        "#Problem-3\n",
        "def arrival_status(arrivals, person):\n",
        "  length = len(arrivals)\n",
        "  start = (length//2) - 1\n",
        "  end = length - 1\n",
        "  for i in range(start, end):\n",
        "    if arrivals[i] == person:\n",
        "      return True\n",
        "  return False\n",
        "\n",
        "arrivals = ['Hardik', 'Rahul', 'Virat', 'Rishabh', 'Mahi', 'Rohit', 'Rahane']\n",
        "\n",
        "person = 'Rishabh'\n",
        "if arrival_status(arrivals, person):\n",
        "  print(f'{person} arrived fashionably late.')\n",
        "else:\n",
        "  print(f'No comments about {person}\\'s arrival')\n",
        "\n",
        "person = 'Mahi'\n",
        "if arrival_status(arrivals, person):\n",
        "  print(f'{person} arrived fashionably late.')\n",
        "else:\n",
        "  print(f'No comments about {person}\\'s arrival')\n",
        "\n",
        "person = 'Rahane'\n",
        "if arrival_status(arrivals, person):\n",
        "  print(f'{person} arrived fashionably late.')\n",
        "else:\n",
        "  print(f'No comments about {person}\\'s arrival')\n",
        "\n",
        "person = 'Hardik'\n",
        "if arrival_status(arrivals, person):\n",
        "  print(f'{person} arrived fashionably late.')\n",
        "else:\n",
        "  print(f'No comments about {person}\\'s arrival')"
      ],
      "execution_count": null,
      "outputs": [
        {
          "output_type": "stream",
          "name": "stdout",
          "text": [
            "Rishabh arrived fashionably late.\n",
            "Mahi arrived fashionably late.\n",
            "No comments about Rahane's arrival\n",
            "No comments about Hardik's arrival\n"
          ]
        }
      ]
    },
    {
      "cell_type": "code",
      "metadata": {
        "colab": {
          "base_uri": "https://localhost:8080/"
        },
        "id": "U7dbe-aNmPi4",
        "outputId": "730e0f30-ab70-4265-d2cf-f4b9528ccca0"
      },
      "source": [
        "#Problem-4\n",
        "\n",
        "def search_for_keyword(doc_list, keyword):\n",
        "  req_list = []\n",
        "  for doc in doc_list:\n",
        "    duplicate = doc\n",
        "    duplicate.replace(',','')\n",
        "    duplicate.replace('.','')\n",
        "    duplicate_list = duplicate.split()\n",
        "    for word in duplicate_list:\n",
        "      if word.lower() == keyword.lower():\n",
        "        req_list.append(doc)\n",
        "  \n",
        "  return req_list\n",
        "\n",
        "doc_list = [\"The Learn Python Challenge Rohit.\", \"They bought a car\", \"bangalore\"]\n",
        "keyword = input('Enter the keyword: ')\n",
        "required_list = search_for_keyword(doc_list, keyword)\n",
        "print(required_list)\n",
        "\n",
        "keyword = input('Enter the keyword: ')\n",
        "required_list = search_for_keyword(doc_list, keyword)\n",
        "print(required_list)\n",
        "\n",
        "keyword = input('Enter the keyword: ')\n",
        "required_list = search_for_keyword(doc_list, keyword)\n",
        "print(required_list)\n",
        "\n",
        "keyword = input('Enter the keyword: ')\n",
        "required_list = search_for_keyword(doc_list, keyword)\n",
        "print(required_list)"
      ],
      "execution_count": 39,
      "outputs": [
        {
          "output_type": "stream",
          "name": "stdout",
          "text": [
            "Enter the keyword: learn\n",
            "['The Learn Python Challenge Rohit.']\n",
            "Enter the keyword: earn\n",
            "[]\n",
            "Enter the keyword: they\n",
            "['They bought a car']\n",
            "Enter the keyword: bangalore\n",
            "['bangalore']\n"
          ]
        }
      ]
    },
    {
      "cell_type": "code",
      "metadata": {
        "colab": {
          "base_uri": "https://localhost:8080/"
        },
        "id": "RXpnVnszp96R",
        "outputId": "8432aca9-a39e-4775-851d-e2c7912b4479"
      },
      "source": [
        "#Problem-5\n",
        "\n",
        "# gross pay = bp+da+hra\n",
        "# da = 40% of bp and hra = 20%of bp\n",
        "# gp = bp + 60% of bp\n",
        "# gp = 160%ofbp i.e. 1.6*bp\n",
        "\n",
        "def calc_GrossPay(basic_pay):\n",
        "  return 1.6*basic_pay\n",
        "\n",
        "basic_pay = int(input('Enter the basic pay: '))\n",
        "gross_pay = calc_GrossPay(basic_pay)\n",
        "print(f'The gross pay is {gross_pay}')\n",
        "\n",
        "basic_pay = int(input('Enter the basic pay: '))\n",
        "gross_pay = calc_GrossPay(basic_pay)\n",
        "print(f'The gross pay is {gross_pay}')\n",
        "\n",
        "basic_pay = int(input('Enter the basic pay: '))\n",
        "gross_pay = calc_GrossPay(basic_pay)\n",
        "print(f'The gross pay is {gross_pay}')"
      ],
      "execution_count": null,
      "outputs": [
        {
          "output_type": "stream",
          "name": "stdout",
          "text": [
            "Enter the basic pay: 8000\n",
            "The gross pay is 12800.0\n",
            "Enter the basic pay: 24560\n",
            "The gross pay is 39296.0\n",
            "Enter the basic pay: 100\n",
            "The gross pay is 160.0\n"
          ]
        }
      ]
    }
  ]
}