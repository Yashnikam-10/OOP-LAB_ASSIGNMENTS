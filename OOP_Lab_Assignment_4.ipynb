{
  "nbformat": 4,
  "nbformat_minor": 0,
  "metadata": {
    "colab": {
      "name": "OOP_Lab_Assignment_4.ipynb",
      "provenance": [],
      "authorship_tag": "ABX9TyOTBWt+9BAmjnD3CDuLx7I9",
      "include_colab_link": true
    },
    "kernelspec": {
      "name": "python3",
      "display_name": "Python 3"
    },
    "language_info": {
      "name": "python"
    }
  },
  "cells": [
    {
      "cell_type": "markdown",
      "metadata": {
        "id": "view-in-github",
        "colab_type": "text"
      },
      "source": [
        "<a href=\"https://colab.research.google.com/github/Yashnikam-10/OOP-LAB_ASSIGNMENTS/blob/main/OOP_Lab_Assignment_4.ipynb\" target=\"_parent\"><img src=\"https://colab.research.google.com/assets/colab-badge.svg\" alt=\"Open In Colab\"/></a>"
      ]
    },
    {
      "cell_type": "code",
      "metadata": {
        "colab": {
          "base_uri": "https://localhost:8080/"
        },
        "id": "SmuJIBYdlTqu",
        "outputId": "fdcf4eb6-5cad-474e-9598-c73d40fcf422"
      },
      "source": [
        "# Problem-1\n",
        "class Node:\n",
        "  def __init__(self, data):\n",
        "    self.data = data\n",
        "    self.next = None\n",
        "  def __del__(self):\n",
        "    print(self.data, 'deleted successfully.')\n",
        "\n",
        "class Stack:\n",
        "  def __init__(self, data):\n",
        "    self.top = Node(data)\n",
        "    print(self.top.data,'added to the stack.')\n",
        "  \n",
        "  def add(self, data):\n",
        "    new = Node(data)\n",
        "    new.next = self.top\n",
        "    self.top = new\n",
        "    print(self.top.data, 'added to the stack.')\n",
        "  \n",
        "  def remove(self):\n",
        "    try:\n",
        "      del_node = self.top\n",
        "      self.top = self.top.next\n",
        "      del del_node\n",
        "\n",
        "    except AttributeError:\n",
        "      print('Cannot remove any more elements from the stack as it is empty.')\n",
        "\n",
        "  def view(self):\n",
        "    print('\\nThe elements of the stack are : ',sep=' ')\n",
        "    curr_node = self.top\n",
        "    while curr_node.next is not None:\n",
        "      print(curr_node.data, sep=' ')\n",
        "      curr_node = curr_node.next\n",
        "    print(curr_node.data)\n",
        "    print()\n",
        "\n",
        "  def is_empty(self):\n",
        "    try:\n",
        "      print('Stack is not empty and it begins with', self.top.data)\n",
        "    except AttributeError:\n",
        "      print('Stack is empty')\n",
        "\n",
        "  def __del__(self):\n",
        "    curr_node = self.top\n",
        "    while curr_node.next is not None:\n",
        "      del_node = curr_node\n",
        "      curr_node = curr_node.next\n",
        "      del del_node\n",
        "    del curr_node\n",
        "    print('Stack deleted.')\n",
        "\n",
        "\n",
        "stack = Stack(5)\n",
        "stack.add('a')\n",
        "stack.add(4)\n",
        "stack.add(3)\n",
        "stack.add(0.4562)\n",
        "stack.add(True)\n",
        "stack.view()\n",
        "stack.is_empty()\n",
        "# stack.remove()\n",
        "stack.remove()\n",
        "stack.remove()\n",
        "stack.add('c')\n",
        "# stack.remove()\n",
        "stack.view()\n",
        "stack.is_empty()\n",
        "del stack\n",
        "\n"
      ],
      "execution_count": 62,
      "outputs": [
        {
          "output_type": "stream",
          "name": "stdout",
          "text": [
            "5 added to the stack.\n",
            "a added to the stack.\n",
            "4 added to the stack.\n",
            "3 added to the stack.\n",
            "0.4562 added to the stack.\n",
            "True added to the stack.\n",
            "\n",
            "The elements of the stack are : \n",
            "True\n",
            "0.4562\n",
            "3\n",
            "4\n",
            "a\n",
            "5\n",
            "\n",
            "Stack is not empty and it begins with True\n",
            "True deleted successfully.\n",
            "0.4562 deleted successfully.\n",
            "c added to the stack.\n",
            "\n",
            "The elements of the stack are : \n",
            "c\n",
            "3\n",
            "4\n",
            "a\n",
            "5\n",
            "\n",
            "Stack is not empty and it begins with c\n",
            "Stack deleted.\n",
            "c deleted successfully.\n",
            "3 deleted successfully.\n",
            "4 deleted successfully.\n",
            "a deleted successfully.\n",
            "5 deleted successfully.\n"
          ]
        }
      ]
    },
    {
      "cell_type": "code",
      "metadata": {
        "colab": {
          "base_uri": "https://localhost:8080/"
        },
        "id": "pOeZS2--xF5x",
        "outputId": "d0885109-47c9-4aae-c5e7-3ef5531ae05c"
      },
      "source": [
        "# Problem-2\n",
        "class Rectangle:\n",
        "  def __init__(self, length = 5, breadth = 4):\n",
        "    self.l = length\n",
        "    self.b = breadth\n",
        "    self.area = self.l*self.b\n",
        "  def area(self):\n",
        "    return self.area\n",
        "\n",
        "rect_1 = Rectangle(7,8)\n",
        "print(rect_1.area)\n",
        "rect_2 = Rectangle()\n",
        "print(rect_2.area)"
      ],
      "execution_count": 50,
      "outputs": [
        {
          "output_type": "stream",
          "name": "stdout",
          "text": [
            "56\n",
            "20\n"
          ]
        }
      ]
    },
    {
      "cell_type": "code",
      "metadata": {
        "colab": {
          "base_uri": "https://localhost:8080/"
        },
        "id": "bTMp2DPByrFJ",
        "outputId": "768a7ab2-2f99-489a-d816-e676ddf1f916"
      },
      "source": [
        "# Problem-3\n",
        "class Node:\n",
        "  def __init__(self, data):\n",
        "    self.data = data\n",
        "    self.next = None\n",
        "  def __del__(self):\n",
        "    print(self.data, 'deleted successfully.')\n",
        "\n",
        "class Queue:\n",
        "  def __init__(self, data):\n",
        "    self.front = self.end = Node(data)\n",
        "    print(self.front.data,'added to the queue.')\n",
        "  \n",
        "  def add(self, data):\n",
        "    new_node = Node(data)\n",
        "    self.end.next = new_node\n",
        "    self.end = new_node\n",
        "    print(self.end.data, 'added to the queue.')\n",
        "  \n",
        "  def remove(self):\n",
        "    try:\n",
        "      del_node = self.front\n",
        "      self.front = self.front.next\n",
        "      del del_node\n",
        "    except AttributeError:\n",
        "      print('Cannot remove any more elements from the stack as it is empty.')\n",
        "\n",
        "  def view(self):\n",
        "    print('\\nElements of the Queue are:')\n",
        "    curr_node = self.front\n",
        "    while curr_node != self.end:\n",
        "      print(curr_node.data)\n",
        "      curr_node = curr_node.next\n",
        "    print(curr_node.data)\n",
        "    print()\n",
        "  \n",
        "  def is_empty(self):\n",
        "    try:\n",
        "      print('The Queue starts with', self.front.data ,'and ends with', self.end.data ,'.')\n",
        "    except AttributeError:\n",
        "      print('Queue is empty...')\n",
        "\n",
        "  def __del__(self):\n",
        "    curr_node = self.front\n",
        "    while curr_node != self.end:\n",
        "      del_node = curr_node\n",
        "      curr_node = curr_node.next\n",
        "      del del_node\n",
        "    del curr_node\n",
        "    print('Queue deleted.')\n",
        "\n",
        "\n",
        "q = Queue(1)\n",
        "q.add(4)\n",
        "q.add(3)\n",
        "q.add('element')\n",
        "q.view()\n",
        "q.is_empty()\n",
        "q.remove()\n",
        "q.remove()\n",
        "q.add('b')\n",
        "q.view()\n",
        "del q"
      ],
      "execution_count": 61,
      "outputs": [
        {
          "output_type": "stream",
          "name": "stdout",
          "text": [
            "1 added to the queue.\n",
            "4 added to the queue.\n",
            "3 added to the queue.\n",
            "element added to the queue.\n",
            "\n",
            "Elements of the Queue are:\n",
            "1\n",
            "4\n",
            "3\n",
            "element\n",
            "\n",
            "The Queue starts with 1 and ends with element .\n",
            "1 deleted successfully.\n",
            "4 deleted successfully.\n",
            "b added to the queue.\n",
            "\n",
            "Elements of the Queue are:\n",
            "3\n",
            "element\n",
            "b\n",
            "\n",
            "Queue deleted.\n",
            "3 deleted successfully.\n",
            "element deleted successfully.\n",
            "b deleted successfully.\n"
          ]
        }
      ]
    }
  ]
}