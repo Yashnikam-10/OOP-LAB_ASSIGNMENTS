{
  "nbformat": 4,
  "nbformat_minor": 0,
  "metadata": {
    "colab": {
      "name": "OOP_Lab_Assignment_5.ipynb",
      "provenance": [],
      "authorship_tag": "ABX9TyNqpHD0cImMhfdgfxooCLmW",
      "include_colab_link": true
    },
    "kernelspec": {
      "name": "python3",
      "display_name": "Python 3"
    },
    "language_info": {
      "name": "python"
    }
  },
  "cells": [
    {
      "cell_type": "markdown",
      "metadata": {
        "id": "view-in-github",
        "colab_type": "text"
      },
      "source": [
        "<a href=\"https://colab.research.google.com/github/Yashnikam-10/OOP-LAB_ASSIGNMENTS/blob/main/OOP_Lab_Assignment_5.ipynb\" target=\"_parent\"><img src=\"https://colab.research.google.com/assets/colab-badge.svg\" alt=\"Open In Colab\"/></a>"
      ]
    },
    {
      "cell_type": "code",
      "metadata": {
        "colab": {
          "base_uri": "https://localhost:8080/"
        },
        "id": "tVw9bPuU7otN",
        "outputId": "79060fed-9060-49ea-fbc4-6c3d41338b5e"
      },
      "source": [
        "# Problem-1\n",
        "from abc import ABC, abstractmethod\n",
        "import numpy as np\n",
        "\n",
        "class Shape:\n",
        "  def __init__(self, name):\n",
        "    self.name = name\n",
        "  \n",
        "  @abstractmethod\n",
        "  def area(self):\n",
        "    pass\n",
        "\n",
        "class Circle(Shape):\n",
        "  def __init__(self, radius):\n",
        "    Shape.__init__(self, 'Circle')\n",
        "    self.radius = radius\n",
        "  \n",
        "  def area(self):\n",
        "    return round(np.pi * (self.radius**2))\n",
        "\n",
        "class Square(Shape):\n",
        "  def __init__(self, length):\n",
        "    Shape.__init__(self, 'Square')\n",
        "    self.length = length\n",
        "\n",
        "  def area(self):\n",
        "    return self.length**2\n",
        "\n",
        "class Rectangle(Shape):\n",
        "  def __init__(self, length, breadth):\n",
        "    Shape.__init__(self, 'Rectangle')\n",
        "    self.length = length\n",
        "    self.breadth = breadth\n",
        "\n",
        "  def area(self):\n",
        "    return self.length*self.breadth\n",
        "\n",
        "\n",
        "c = Circle(5)\n",
        "s = Square(3)\n",
        "r = Rectangle(4, 2)\n",
        "print(f'Area of Circle: {c.area()}\\nArea of Square: {s.area()}\\nArea of Rectangle: {r.area()}')"
      ],
      "execution_count": 7,
      "outputs": [
        {
          "output_type": "stream",
          "name": "stdout",
          "text": [
            "Area of Circle: 79\n",
            "Area of Square: 9\n",
            "Area of Rectangle: 8\n"
          ]
        }
      ]
    },
    {
      "cell_type": "code",
      "metadata": {
        "colab": {
          "base_uri": "https://localhost:8080/"
        },
        "id": "NK8lJ_Fk_U_M",
        "outputId": "4fcdc785-f82a-42be-9a6d-e22fce4286e1"
      },
      "source": [
        "# Problem-2\n",
        "class Travel:\n",
        "  def __init__(self, mode, distance, passengers):\n",
        "    self.mode = mode\n",
        "    self.distance = distance\n",
        "    self._passengers = passengers\n",
        "\n",
        "  def passenger_count(self):\n",
        "    return self._passengers\n",
        "  \n",
        "  @abstractmethod\n",
        "  def calc_cost(self):\n",
        "    pass\n",
        "\n",
        "class Bus(Travel):\n",
        "  def __init__(self, distance, passengers):\n",
        "    super().__init__('Bus', distance, passengers)\n",
        "\n",
        "  def get_passengers(self):\n",
        "    return super().passenger_count()\n",
        "\n",
        "  def calc_cost(self):\n",
        "    return self.get_passengers()*100\n",
        "\n",
        "\n",
        "class Train(Travel):\n",
        "  def __init__(self, distance, passengers):\n",
        "    super().__init__('Train', distance, passengers)\n",
        "\n",
        "  def get_passengers(self):\n",
        "    return super().passenger_count()\n",
        "\n",
        "  def calc_cost(self):\n",
        "    return self.get_passengers()*60\n",
        "\n",
        "b = Bus(80, 43)\n",
        "t = Train(90, 80)\n",
        "print(f'Cost of Trip by:\\nBus: {b.calc_cost()}\\nTrain: {t.calc_cost()}')"
      ],
      "execution_count": 45,
      "outputs": [
        {
          "output_type": "stream",
          "name": "stdout",
          "text": [
            "Cost of Trip by:\n",
            "Bus: 4300\n",
            "Train: 4800\n"
          ]
        }
      ]
    },
    {
      "cell_type": "code",
      "metadata": {
        "colab": {
          "base_uri": "https://localhost:8080/"
        },
        "id": "AxVN_miAGqdk",
        "outputId": "80030a96-b0fe-4f05-e8a4-12940ce96769"
      },
      "source": [
        "# Problem-3\n",
        "class Car:\n",
        "  def __init__(self, modelno):\n",
        "    self.modelno = modelno\n",
        "\n",
        "def swap_model_no(car1, car2):\n",
        "  car1.modelno, car2.modelno = car2.modelno, car1.modelno\n",
        "\n",
        "c1 = Car('2J394S')\n",
        "c2 = Car('2J419T')\n",
        "print('Before Swap:')\n",
        "print(f'Car 1: {c1.modelno}\\nCar 2: {c2.modelno}')\n",
        "swap_model_no(c1, c2)\n",
        "print('After Swap:')\n",
        "print(f'Car 1: {c1.modelno}\\nCar 2: {c2.modelno}')"
      ],
      "execution_count": 42,
      "outputs": [
        {
          "output_type": "stream",
          "name": "stdout",
          "text": [
            "Before Swap:\n",
            "Car 1: 2J394S\n",
            "Car 2: 2J419T\n",
            "After Swap:\n",
            "Car 1: 2J419T\n",
            "Car 2: 2J394S\n"
          ]
        }
      ]
    }
  ]
}