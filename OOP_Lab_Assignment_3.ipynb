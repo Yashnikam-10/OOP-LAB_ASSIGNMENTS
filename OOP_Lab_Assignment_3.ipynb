{
  "nbformat": 4,
  "nbformat_minor": 0,
  "metadata": {
    "colab": {
      "name": "OOP_Lab_Assignment_3.ipynb",
      "provenance": [],
      "authorship_tag": "ABX9TyOIIhItbNSN2zQ9OnhpXg1v",
      "include_colab_link": true
    },
    "kernelspec": {
      "name": "python3",
      "display_name": "Python 3"
    },
    "language_info": {
      "name": "python"
    }
  },
  "cells": [
    {
      "cell_type": "markdown",
      "metadata": {
        "id": "view-in-github",
        "colab_type": "text"
      },
      "source": [
        "<a href=\"https://colab.research.google.com/github/Yashnikam-10/OOP-LAB_ASSIGNMENTS/blob/main/OOP_Lab_Assignment_3.ipynb\" target=\"_parent\"><img src=\"https://colab.research.google.com/assets/colab-badge.svg\" alt=\"Open In Colab\"/></a>"
      ]
    },
    {
      "cell_type": "code",
      "metadata": {
        "colab": {
          "base_uri": "https://localhost:8080/"
        },
        "id": "n-s59g5Mlqtf",
        "outputId": "f3599f52-35fd-47bb-861b-6adfaf441401"
      },
      "source": [
        "# Problem-1\n",
        "\n",
        "class Student:\n",
        "  def __init__(self, name, regno, age, gender, branch, sem):\n",
        "    self.name = name\n",
        "    self.regno = regno\n",
        "    self.age = age\n",
        "    self.gender = gender\n",
        "    self.branch = branch\n",
        "    self.sem = sem\n",
        "\n",
        "  def disp_details_Student(self):\n",
        "    print(f'Name: {self.name.title()}\\nReg No: {self.regno.upper()}\\nBranch: {self.branch.upper()}\\nSemester: {self.sem}')\n",
        "    print(f'Age: {self.age}\\nGender: {self.gender.title()}')\n",
        "\n",
        "  \n",
        "class StudentResultInfo(Student):\n",
        "  def __init__(self, name, regno, age, gender, branch, sem, marks, percentage, grade):\n",
        "    Student.__init__(self, name, regno, age, gender, branch, sem)\n",
        "    self.marks = []\n",
        "    self.percentage = percentage\n",
        "    self.grade = grade\n",
        "    for mark in marks:\n",
        "      self.marks.append(mark)\n",
        "\n",
        "  def disp_details_academic_Student(self):\n",
        "    print('\\nStudent Details:')\n",
        "    Student.disp_details_Student(self)\n",
        "    print(\"\\nAcademic Details:\\nMarks: \")\n",
        "    for i in range(len(self.marks)):\n",
        "      print(f'Subject {i+1}: {self.marks[i]}')\n",
        "    print(f'\\nPercentage: {self.percentage}%\\nGrade: {self.grade}')\n",
        "\n",
        "\n",
        "def read_info():\n",
        "  print('Enter name, regno, age, gender, branch, sem, marks, percentage, grade and seperate marks with ;')\n",
        "  info = input()\n",
        "  info_list = info.split(',')\n",
        "  marks = info_list[6].split(';')\n",
        "\n",
        "  return StudentResultInfo(info_list[0], info_list[1], info_list[2], info_list[3], info_list[4], info_list[5], marks, info_list[7], info_list[8])\n",
        "\n",
        "\n",
        "s = read_info()\n",
        "s.disp_details_academic_Student()\n"
      ],
      "execution_count": 7,
      "outputs": [
        {
          "output_type": "stream",
          "name": "stdout",
          "text": [
            "Enter name, regno, age, gender, branch, sem, marks, percentage, grade and seperate marks with ;\n",
            "yash nikam,20bcs093,19,male,cse,3,8;9;9;8;7;8,81.67,B\n",
            "\n",
            "Student Details:\n",
            "Name: Yash Nikam\n",
            "Reg No: 20BCS093\n",
            "Branch: CSE\n",
            "Semester: 3\n",
            "Age: 19\n",
            "Gender: Male\n",
            "\n",
            "Academic Details:\n",
            "Marks: \n",
            "Subject 1: 8\n",
            "Subject 2: 9\n",
            "Subject 3: 9\n",
            "Subject 4: 8\n",
            "Subject 5: 7\n",
            "Subject 6: 8\n",
            "\n",
            "Percentage: 81.67%\n",
            "Grade: B\n"
          ]
        }
      ]
    },
    {
      "cell_type": "code",
      "metadata": {
        "colab": {
          "base_uri": "https://localhost:8080/"
        },
        "id": "D13E5vsd1MTQ",
        "outputId": "6fd45f49-e655-4d00-a085-742b104a2aa2"
      },
      "source": [
        "# Problem-2\n",
        "\n",
        "class pdf:\n",
        "  def __init__(self, creator, description, file_size):\n",
        "    self.creator = creator\n",
        "    self.description = description\n",
        "    self.file_size = file_size\n",
        "\n",
        "  def disp_details_pdf(self):\n",
        "    print(f'Creator: {self.creator.title()}\\nDescription: {self.description}\\nFile Size: {self.file_size} MB')\n",
        "\n",
        "  def check_size_pdf(self):\n",
        "    if float(self.file_size) <= 2:\n",
        "      return True\n",
        "    else:\n",
        "      return False\n",
        "\n",
        "\n",
        "class picture:\n",
        "  def __init__(self, creatori, descriptioni, image_size, image_dimension):\n",
        "    self.creatori = creatori\n",
        "    self.descriptioni = descriptioni\n",
        "    self.image_size = image_size\n",
        "    self.image_dimension = image_dimension\n",
        "\n",
        "  def disp_details_picture(self):\n",
        "    print(f'Creator: {self.creatori.title()}\\nDescription: {self.descriptioni}\\nFile Size: {self.image_size} MB\\nDimensions: {self.image_dimension} pixels')\n",
        "\n",
        "  def check_size_img(self):\n",
        "    if float(self.image_size) <= 0.5:\n",
        "      return True\n",
        "    else:\n",
        "      return False\n",
        "\n",
        "  def check_img_size(self):\n",
        "    dimensions = self.image_dimension.split('x')\n",
        "    if int(dimensions[0]) <= 640 and int(dimensions[1]) <= 480:\n",
        "      return True\n",
        "    else:\n",
        "      return False\n",
        "\n",
        "\n",
        "class ContentManagementSystem(pdf,picture):\n",
        "  def __init__(self, creator, description, file_size, creatori, descriptioni, image_size, image_dimension):\n",
        "    pdf.__init__(self, creator, description, file_size)\n",
        "    picture.__init__(self, creatori, descriptioni, image_size, image_dimension)\n",
        "\n",
        "  def check_sizes(self):\n",
        "    if not pdf.check_size_pdf(self):\n",
        "      print(\"PDF size too large....\")\n",
        "    if not picture.check_size_img(self):\n",
        "      print(\"Image size too large....\")\n",
        "    if not picture.check_img_size(self):\n",
        "      print(\"Image dimensions too large.....\")\n",
        "    \n",
        "    if pdf.check_size_pdf(self) and picture.check_size_img(self) and picture.check_img_size(self):\n",
        "      print(\"All the documents are within acceptable parameters.\")\n",
        "  \n",
        "  def disp_details(self):\n",
        "    print('\\nDocument Details:')\n",
        "    print('\\nPDF Details:\\n')\n",
        "    pdf.disp_details_pdf(self)\n",
        "    print('\\n\\nPicture Details:\\n')\n",
        "    picture.disp_details_picture(self)\n",
        "\n",
        "\n",
        "def take_info():\n",
        "  print('Enter the creator name, description of pdf, size seperated by ;')\n",
        "  pdf_info = input()\n",
        "  print('Enter the creator name, description of image, size, dimension seperated by ;')\n",
        "  pic_info = input()\n",
        "\n",
        "  pdf_info_l = pdf_info.split(';')\n",
        "  pic_info_l = pic_info.split(';')\n",
        "\n",
        "  return ContentManagementSystem(pdf_info_l[0], pdf_info_l[1], pdf_info_l[2], pic_info_l[0], pic_info_l[1], pic_info_l[2], pic_info_l[3])\n",
        "\n",
        "cms = take_info()\n",
        "cms.check_sizes()\n",
        "cms.disp_details()"
      ],
      "execution_count": 16,
      "outputs": [
        {
          "output_type": "stream",
          "name": "stdout",
          "text": [
            "Enter the creator name, description of pdf, size seperated by ;\n",
            "yash nikam;some oop codes;1.5\n",
            "Enter the creator name, description of image, size, dimension seperated by ;\n",
            "yash nikam;output of oop codes;0.3;320x240\n",
            "All the documents are within acceptable parameters.\n",
            "\n",
            "Document Details:\n",
            "\n",
            "PDF Details:\n",
            "\n",
            "Creator: Yash Nikam\n",
            "Description: some oop codes\n",
            "File Size: 1.5 MB\n",
            "\n",
            "\n",
            "Picture Details:\n",
            "\n",
            "Creator: Yash Nikam\n",
            "Description: output of oop codes\n",
            "File Size: 0.3 MB\n",
            "Dimensions: 320x240 pixels\n"
          ]
        }
      ]
    },
    {
      "cell_type": "code",
      "metadata": {
        "colab": {
          "base_uri": "https://localhost:8080/"
        },
        "id": "0vsDMnCTDgsF",
        "outputId": "4ad96cc5-e1ee-48e6-90d0-ca54f0ac2d21"
      },
      "source": [
        "# Problem-3\n",
        "\n",
        "class Vehicle:\n",
        "  def __init__(self, name, mileage, capacity):\n",
        "    self.name = name\n",
        "    self.mileage = mileage\n",
        "    self.capacity = capacity\n",
        "    self.total_fare = self.bus_fare()\n",
        "    \n",
        "  def bus_fare(self):\n",
        "    return 100*int(self.capacity)\n",
        "\n",
        "class Bus(Vehicle):\n",
        "  def __init__(self, name, mileage, capacity):\n",
        "    Vehicle.__init__(self, name, mileage, capacity)\n",
        "    self.total_fare = 1.1*Bus.bus_fare(self) \n",
        "\n",
        "\n",
        "def take_info():\n",
        "  print('Enter vehicle,mileage,capacity')\n",
        "  info = input()\n",
        "  info_list = info.split(',')\n",
        "  if info_list[0].lower() == 'bus':\n",
        "    return Bus(info_list[0], info_list[1], info_list[2])\n",
        "  else:\n",
        "    return Vehicle(info_list[0], info_list[1], info_list[2])\n",
        "\n",
        "v1 = take_info() #vehicle,5km/lit,20\n",
        "v2 = take_info()  #bus,4km/lit,20\n",
        "\n",
        "print(\"Vehicle Fare:\" + str(v1.total_fare))    \n",
        "print('Bus Fare:' + str(v2.total_fare))\n"
      ],
      "execution_count": 27,
      "outputs": [
        {
          "output_type": "stream",
          "name": "stdout",
          "text": [
            "Enter vehicle,mileage,capacity\n",
            "vehicle,5km/lit,20\n",
            "Enter vehicle,mileage,capacity\n",
            "bus,4km/lit,20\n",
            "Vehicle Fare:2000\n",
            "Bus Fare:2200.0\n"
          ]
        }
      ]
    }
  ]
}